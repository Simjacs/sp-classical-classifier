{
 "cells": [
  {
   "cell_type": "markdown",
   "metadata": {},
   "source": [
    "## Classify classical music by era"
   ]
  },
  {
   "cell_type": "markdown",
   "metadata": {},
   "source": [
    "### imports"
   ]
  },
  {
   "cell_type": "code",
   "execution_count": 1,
   "metadata": {},
   "outputs": [],
   "source": [
    "import spotipy\n",
    "from spotipy.oauth2 import SpotifyClientCredentials\n",
    "import spotipy.util as util\n",
    "import numpy as np\n",
    "import pandas as pd\n",
    "import seaborn as sns"
   ]
  },
  {
   "cell_type": "code",
   "execution_count": 28,
   "metadata": {},
   "outputs": [],
   "source": [
    "from sklearn.model_selection import train_test_split\n",
    "from sklearn.preprocessing import MinMaxScaler, normalize\n",
    "from sklearn.neural_network import MLPClassifier, MLPRegressor\n",
    "from sklearn.linear_model import LinearRegression\n",
    "from sklearn.metrics import classification_report\n",
    "from sklearn.ensemble import RandomForestClassifier"
   ]
  },
  {
   "cell_type": "markdown",
   "metadata": {},
   "source": [
    "### auth"
   ]
  },
  {
   "cell_type": "code",
   "execution_count": 104,
   "metadata": {},
   "outputs": [],
   "source": [
    "cid =\"2bd837c837174d50ab873c61acf24f68\" \n",
    "secret = \"033bb4a851d54615bf83aaf94239ee06\"\n",
    "username = \"omkwppodx5qi1pph0cwma65zc\"\n",
    "client_credentials_manager = SpotifyClientCredentials(client_id=cid, client_secret=secret) \n",
    "sp = spotipy.Spotify(client_credentials_manager=client_credentials_manager)\n",
    "scope = 'user-library-read playlist-read-private streaming user-modify-playback-state user-read-playback-state playlist-modify-private'\n",
    "token = util.prompt_for_user_token(username, scope, client_id=cid, client_secret=secret, redirect_uri=\"http://localhost/\")\n",
    "if token:\n",
    "    sp = spotipy.Spotify(auth=token)\n",
    "else:\n",
    "    print(\"Can't get token for\", username)"
   ]
  },
  {
   "cell_type": "markdown",
   "metadata": {},
   "source": [
    "### get data"
   ]
  },
  {
   "cell_type": "code",
   "execution_count": 116,
   "metadata": {},
   "outputs": [],
   "source": [
    "composers = pd.read_csv(\"~/Documents/_dataScience/projects/spotify_api/sp-classical-classifier/data/raw/composer_era.csv\")"
   ]
  },
  {
   "cell_type": "code",
   "execution_count": 117,
   "metadata": {},
   "outputs": [
    {
     "data": {
      "text/html": [
       "<div>\n",
       "<style scoped>\n",
       "    .dataframe tbody tr th:only-of-type {\n",
       "        vertical-align: middle;\n",
       "    }\n",
       "\n",
       "    .dataframe tbody tr th {\n",
       "        vertical-align: top;\n",
       "    }\n",
       "\n",
       "    .dataframe thead th {\n",
       "        text-align: right;\n",
       "    }\n",
       "</style>\n",
       "<table border=\"1\" class=\"dataframe\">\n",
       "  <thead>\n",
       "    <tr style=\"text-align: right;\">\n",
       "      <th></th>\n",
       "      <th>firstnames</th>\n",
       "      <th>lastnames</th>\n",
       "      <th>era</th>\n",
       "    </tr>\n",
       "  </thead>\n",
       "  <tbody>\n",
       "    <tr>\n",
       "      <th>0</th>\n",
       "      <td>johann sebastian</td>\n",
       "      <td>bach</td>\n",
       "      <td>baroque</td>\n",
       "    </tr>\n",
       "    <tr>\n",
       "      <th>1</th>\n",
       "      <td>george fridrich</td>\n",
       "      <td>handel</td>\n",
       "      <td>baroque</td>\n",
       "    </tr>\n",
       "    <tr>\n",
       "      <th>2</th>\n",
       "      <td>antonio</td>\n",
       "      <td>vivaldi</td>\n",
       "      <td>baroque</td>\n",
       "    </tr>\n",
       "    <tr>\n",
       "      <th>3</th>\n",
       "      <td>domenico</td>\n",
       "      <td>scarlatti</td>\n",
       "      <td>baroque</td>\n",
       "    </tr>\n",
       "    <tr>\n",
       "      <th>4</th>\n",
       "      <td>claudio</td>\n",
       "      <td>monteverdi</td>\n",
       "      <td>baroque</td>\n",
       "    </tr>\n",
       "    <tr>\n",
       "      <th>5</th>\n",
       "      <td>georg philipp</td>\n",
       "      <td>telemann</td>\n",
       "      <td>baroque</td>\n",
       "    </tr>\n",
       "    <tr>\n",
       "      <th>6</th>\n",
       "      <td>henry</td>\n",
       "      <td>purcell</td>\n",
       "      <td>baroque</td>\n",
       "    </tr>\n",
       "    <tr>\n",
       "      <th>7</th>\n",
       "      <td>wolfgang amadeus</td>\n",
       "      <td>mozart</td>\n",
       "      <td>classical</td>\n",
       "    </tr>\n",
       "    <tr>\n",
       "      <th>8</th>\n",
       "      <td>william</td>\n",
       "      <td>boyce</td>\n",
       "      <td>baroque</td>\n",
       "    </tr>\n",
       "    <tr>\n",
       "      <th>9</th>\n",
       "      <td>carl</td>\n",
       "      <td>stamitz</td>\n",
       "      <td>classical</td>\n",
       "    </tr>\n",
       "    <tr>\n",
       "      <th>10</th>\n",
       "      <td>leopold</td>\n",
       "      <td>kozeluch</td>\n",
       "      <td>classical</td>\n",
       "    </tr>\n",
       "    <tr>\n",
       "      <th>11</th>\n",
       "      <td>joseph</td>\n",
       "      <td>haydn</td>\n",
       "      <td>classical</td>\n",
       "    </tr>\n",
       "    <tr>\n",
       "      <th>12</th>\n",
       "      <td>luigi</td>\n",
       "      <td>boccherini</td>\n",
       "      <td>classical</td>\n",
       "    </tr>\n",
       "    <tr>\n",
       "      <th>13</th>\n",
       "      <td>domenico</td>\n",
       "      <td>cimarosa</td>\n",
       "      <td>classical</td>\n",
       "    </tr>\n",
       "    <tr>\n",
       "      <th>14</th>\n",
       "      <td>antonio</td>\n",
       "      <td>rosetti</td>\n",
       "      <td>classical</td>\n",
       "    </tr>\n",
       "    <tr>\n",
       "      <th>15</th>\n",
       "      <td>antonio</td>\n",
       "      <td>salieri</td>\n",
       "      <td>classical</td>\n",
       "    </tr>\n",
       "    <tr>\n",
       "      <th>16</th>\n",
       "      <td>christoph willibald</td>\n",
       "      <td>gluck</td>\n",
       "      <td>classical</td>\n",
       "    </tr>\n",
       "    <tr>\n",
       "      <th>17</th>\n",
       "      <td>robert</td>\n",
       "      <td>schumann</td>\n",
       "      <td>romantic</td>\n",
       "    </tr>\n",
       "    <tr>\n",
       "      <th>18</th>\n",
       "      <td>claude</td>\n",
       "      <td>debussy</td>\n",
       "      <td>romantic</td>\n",
       "    </tr>\n",
       "    <tr>\n",
       "      <th>19</th>\n",
       "      <td>frederic</td>\n",
       "      <td>chopin</td>\n",
       "      <td>romantic</td>\n",
       "    </tr>\n",
       "    <tr>\n",
       "      <th>20</th>\n",
       "      <td>antonin</td>\n",
       "      <td>dvorak</td>\n",
       "      <td>romantic</td>\n",
       "    </tr>\n",
       "    <tr>\n",
       "      <th>21</th>\n",
       "      <td>franz</td>\n",
       "      <td>liszt</td>\n",
       "      <td>romantic</td>\n",
       "    </tr>\n",
       "    <tr>\n",
       "      <th>22</th>\n",
       "      <td>pyotr ilyich</td>\n",
       "      <td>tchaikovsky</td>\n",
       "      <td>romantic</td>\n",
       "    </tr>\n",
       "    <tr>\n",
       "      <th>23</th>\n",
       "      <td>richard</td>\n",
       "      <td>wagner</td>\n",
       "      <td>romantic</td>\n",
       "    </tr>\n",
       "    <tr>\n",
       "      <th>24</th>\n",
       "      <td>giaccomo</td>\n",
       "      <td>puccini</td>\n",
       "      <td>romantic</td>\n",
       "    </tr>\n",
       "  </tbody>\n",
       "</table>\n",
       "</div>"
      ],
      "text/plain": [
       "             firstnames    lastnames        era\n",
       "0      johann sebastian         bach    baroque\n",
       "1       george fridrich       handel    baroque\n",
       "2               antonio      vivaldi    baroque\n",
       "3              domenico    scarlatti    baroque\n",
       "4               claudio   monteverdi    baroque\n",
       "5         georg philipp     telemann    baroque\n",
       "6                 henry      purcell    baroque\n",
       "7      wolfgang amadeus       mozart  classical\n",
       "8               william        boyce    baroque\n",
       "9                  carl      stamitz  classical\n",
       "10              leopold     kozeluch  classical\n",
       "11               joseph        haydn  classical\n",
       "12                luigi   boccherini  classical\n",
       "13             domenico     cimarosa  classical\n",
       "14              antonio      rosetti  classical\n",
       "15              antonio      salieri  classical\n",
       "16  christoph willibald        gluck  classical\n",
       "17               robert     schumann   romantic\n",
       "18               claude      debussy   romantic\n",
       "19             frederic       chopin   romantic\n",
       "20              antonin       dvorak   romantic\n",
       "21                franz        liszt   romantic\n",
       "22         pyotr ilyich  tchaikovsky   romantic\n",
       "23              richard       wagner   romantic\n",
       "24            giaccomo       puccini   romantic"
      ]
     },
     "execution_count": 117,
     "metadata": {},
     "output_type": "execute_result"
    }
   ],
   "source": [
    "composers"
   ]
  },
  {
   "cell_type": "code",
   "execution_count": 5,
   "metadata": {},
   "outputs": [],
   "source": [
    "fnames = composers.firstnames.values\n",
    "lnames = composers.lastnames.values"
   ]
  },
  {
   "cell_type": "code",
   "execution_count": 6,
   "metadata": {},
   "outputs": [],
   "source": [
    "queries = [f\"this is {lnames[i]}\" for i in range(len(composers))]"
   ]
  },
  {
   "cell_type": "markdown",
   "metadata": {},
   "source": [
    "#### get data\n",
    "pull artist albums"
   ]
  },
  {
   "cell_type": "code",
   "execution_count": 7,
   "metadata": {},
   "outputs": [],
   "source": [
    "def get_artist_id_from_name(name: str, id_type: str):\n",
    "    \"\"\"id type can be [\"genres\", \"name\", \"id\", \"uri\"]\"\"\"\n",
    "    search = sp.search(name, limit=1, type=\"artist\")\n",
    "    return search[\"artists\"][\"items\"][0][id_type]\n",
    "\n",
    "\n",
    "def get_playlist_id_from_name(name: str) -> list:\n",
    "    search = sp.search(name, limit=1, type=\"playlist\")\n",
    "    pl_id = search[\"playlists\"][\"items\"][0][\"id\"]\n",
    "    pl_name = search[\"playlists\"][\"items\"][0][\"name\"]\n",
    "    pl_uri = search[\"playlists\"][\"items\"][0][\"uri\"]\n",
    "    return [pl_id, pl_name, pl_uri]\n",
    "\n",
    "\n",
    "def get_essentials_album_ids_from_name(name: str, id_type: str):\n",
    "    query = f\"{name} essentials\"\n",
    "    search = sp.search(query, limit=10, type=\"album\")[\"albums\"][\"items\"]\n",
    "    ids_list = [result[id_type] for result in search]\n",
    "    return ids_list\n",
    "\n",
    "\n",
    "def get_album_ids_from_name(name: str, id_type: str) -> list:\n",
    "    \"\"\"takes composer fname + lname and returns up to 20 of their artist albums\"\"\"\n",
    "    artist = get_artist_id_from_name(name=name, id_type=\"id\")\n",
    "    albums = sp.artist_albums(artist, limit=20)\n",
    "    return [albums[\"items\"][i][\"id\"] for i in range(len(albums[\"items\"]))]\n",
    "    \n",
    "    \n",
    "def get_album_track_ids(album_id: str, id_type: str) -> list:\n",
    "    \"\"\"takes album id and returns list track [id_type]s\"\"\"\n",
    "    tracks = sp.album_tracks(album_id)[\"items\"]\n",
    "    return [tracks[i][id_type] for i in range(len(tracks))]\n",
    "    \n",
    "    \n",
    "def get_playlist_track_ids(playlist_id: str, id_type: str) -> list:\n",
    "    # id_type = [\"uri\", \"name\", \"id\"]\n",
    "    tracks = sp.playlist_tracks(playlist_id)[\"items\"]\n",
    "    track_ids = [tracks[i][\"track\"][id_type] for i in range(len(tracks))]\n",
    "    return track_ids\n",
    "\n",
    "\n",
    "def get_audio_features_as_lists(track_id: str, keys_list: list):\n",
    "    track = sp.audio_features(track_id)\n",
    "    features_list = []\n",
    "    for key in keys_list:\n",
    "        try:\n",
    "            features_list.append(track[0][key])\n",
    "        except: \n",
    "            continue\n",
    "    return features_list\n",
    "\n",
    "def get_track_name_from_id(track_id: str):\n",
    "    return sp.track(track_id)[\"name\"]"
   ]
  },
  {
   "cell_type": "markdown",
   "metadata": {
    "jupyter": {
     "outputs_hidden": true
    }
   },
   "source": [
    "features = ['danceability', 'energy', 'key', 'loudness', 'mode', 'valence', 'tempo', 'time_signature']\n",
    "rows_list = []\n",
    "for i in range(len(composers[0:4])):\n",
    "    name = f\"{composers['firstnames'][i]} {composers['lastnames'][i]}\"\n",
    "    print(name)\n",
    "    era = composers[\"era\"][i]\n",
    "    \n",
    "    album_ids = get_album_ids_from_name(name, \"id\")\n",
    "    album_name = get_album_ids_from_name(name, \"name\")\n",
    "    track_ids = []\n",
    "    track_names = []\n",
    "    for album_id in album_ids:\n",
    "        if album_id == \"5OfGONHFJZD8xpz3gVBwYz\":  # this is a specific bad album\n",
    "            pass\n",
    "        else:\n",
    "            try:\n",
    "                album_tracks = get_album_track_ids(album_id, \"id\")\n",
    "                album_track_names = get_album_track_ids(album_id, \"name\")\n",
    "                track_ids += album_tracks\n",
    "                track_names += album_track_names\n",
    "            except IndexError:\n",
    "                pass\n",
    "    \n",
    "    for j in range(len(track_ids)):\n",
    "        features_list = get_audio_features_as_lists(track_ids[j], keys_list=features)\n",
    "        rows_list.append([track_ids[j]] + [track_names[j]] + features_list + [era])\n",
    "\n",
    "colnames = [\"track_id\", \"track_name\"] + features + [\"era\"]\n",
    "df = pd.DataFrame(columns=colnames, data=rows_list)      \n",
    "        \n",
    "    "
   ]
  },
  {
   "cell_type": "code",
   "execution_count": null,
   "metadata": {},
   "outputs": [],
   "source": []
  },
  {
   "cell_type": "markdown",
   "metadata": {},
   "source": [
    "colnames = [\"track_id\", \"track_name\"] + features + [\"era\"]\n",
    "df = pd.DataFrame(columns=colnames, data=rows_list)  "
   ]
  },
  {
   "cell_type": "markdown",
   "metadata": {},
   "source": [
    "df[\"era_encode\"] = np.where(df.era == \"baroque\", 0, \n",
    "                   np.where(df.era == \"classical\", 1,\n",
    "                   np.where(df.era == \"romantic\", 2, np.nan)))"
   ]
  },
  {
   "cell_type": "markdown",
   "metadata": {},
   "source": [
    "print(f\"baroque: {df[df.era_encode==0].shape}\")\n",
    "print(f\"classical: {df[df.era_encode==1].shape}\")\n",
    "print(f\"romantic: {df[df.era_encode==2].shape}\")"
   ]
  },
  {
   "cell_type": "markdown",
   "metadata": {},
   "source": [
    "df = df[(df.danceability != \"baroque\") & (df.danceability != \"romantic\")]\n",
    "df = df.astype({\"danceability\": \"float\"})"
   ]
  },
  {
   "cell_type": "code",
   "execution_count": 9,
   "metadata": {},
   "outputs": [],
   "source": [
    "df = pd.read_csv(\"~/Documents/_dataScience/projects/spotify_api/sp-classical-classifier/data/raw/track_data.csv\")"
   ]
  },
  {
   "cell_type": "code",
   "execution_count": 10,
   "metadata": {},
   "outputs": [
    {
     "data": {
      "text/plain": [
       "['danceability',\n",
       " 'energy',\n",
       " 'key',\n",
       " 'loudness',\n",
       " 'mode',\n",
       " 'valence',\n",
       " 'tempo',\n",
       " 'time_signature']"
      ]
     },
     "execution_count": 10,
     "metadata": {},
     "output_type": "execute_result"
    }
   ],
   "source": [
    "features"
   ]
  },
  {
   "cell_type": "code",
   "execution_count": 11,
   "metadata": {},
   "outputs": [
    {
     "data": {
      "image/png": "[encoded data removed]",
      "text/plain": [
       "<Figure size 648x216 with 3 Axes>"
      ]
     },
     "metadata": {
      "needs_background": "light"
     },
     "output_type": "display_data"
    }
   ],
   "source": [
    "g = sns.FacetGrid(df, col=\"era\")\n",
    "g = g.map(sns.distplot, \"danceability\", kde=False)"
   ]
  },
  {
   "cell_type": "code",
   "execution_count": 12,
   "metadata": {},
   "outputs": [
    {
     "data": {
      "image/png": "[encoded data removed]",
      "text/plain": [
       "<Figure size 648x216 with 3 Axes>"
      ]
     },
     "metadata": {
      "needs_background": "light"
     },
     "output_type": "display_data"
    }
   ],
   "source": [
    "g = sns.FacetGrid(df, col=\"era\")\n",
    "g = g.map(sns.distplot, \"energy\", kde=False)"
   ]
  },
  {
   "cell_type": "code",
   "execution_count": 13,
   "metadata": {},
   "outputs": [
    {
     "data": {
      "image/png": "[encoded data removed]",
      "text/plain": [
       "<Figure size 648x216 with 3 Axes>"
      ]
     },
     "metadata": {
      "needs_background": "light"
     },
     "output_type": "display_data"
    }
   ],
   "source": [
    "g = sns.FacetGrid(df, col=\"era\")\n",
    "g = g.map(sns.distplot, \"key\", kde=False)"
   ]
  },
  {
   "cell_type": "code",
   "execution_count": 14,
   "metadata": {},
   "outputs": [
    {
     "data": {
      "image/png": "[encoded data removed]",
      "text/plain": [
       "<Figure size 648x216 with 3 Axes>"
      ]
     },
     "metadata": {
      "needs_background": "light"
     },
     "output_type": "display_data"
    }
   ],
   "source": [
    "g = sns.FacetGrid(df, col=\"era\")\n",
    "g = g.map(sns.distplot, \"loudness\", kde=False)"
   ]
  },
  {
   "cell_type": "code",
   "execution_count": 15,
   "metadata": {},
   "outputs": [
    {
     "data": {
      "image/png": "[encoded data removed]",
      "text/plain": [
       "<Figure size 648x216 with 3 Axes>"
      ]
     },
     "metadata": {
      "needs_background": "light"
     },
     "output_type": "display_data"
    }
   ],
   "source": [
    "g = sns.FacetGrid(df, col=\"era\")\n",
    "g = g.map(sns.distplot, \"mode\", kde=False)"
   ]
  },
  {
   "cell_type": "code",
   "execution_count": 16,
   "metadata": {},
   "outputs": [
    {
     "data": {
      "image/png": "[encoded data removed]",
      "text/plain": [
       "<Figure size 648x216 with 3 Axes>"
      ]
     },
     "metadata": {
      "needs_background": "light"
     },
     "output_type": "display_data"
    }
   ],
   "source": [
    "g = sns.FacetGrid(df, col=\"era\")\n",
    "g = g.map(sns.distplot, \"valence\", kde=False)"
   ]
  },
  {
   "cell_type": "code",
   "execution_count": 17,
   "metadata": {},
   "outputs": [
    {
     "data": {
      "image/png": "[encoded data removed]",
      "text/plain": [
       "<Figure size 648x216 with 3 Axes>"
      ]
     },
     "metadata": {
      "needs_background": "light"
     },
     "output_type": "display_data"
    }
   ],
   "source": [
    "g = sns.FacetGrid(df, col=\"era\")\n",
    "g = g.map(sns.distplot, \"tempo\", kde=False)"
   ]
  },
  {
   "cell_type": "code",
   "execution_count": 18,
   "metadata": {},
   "outputs": [
    {
     "data": {
      "image/png": "[encoded data removed]",
      "text/plain": [
       "<Figure size 648x216 with 3 Axes>"
      ]
     },
     "metadata": {
      "needs_background": "light"
     },
     "output_type": "display_data"
    }
   ],
   "source": [
    "g = sns.FacetGrid(df, col=\"era\")\n",
    "g = g.map(sns.distplot, \"time_signature\", kde=False)"
   ]
  },
  {
   "cell_type": "markdown",
   "metadata": {},
   "source": [
    "### Train-Test Split"
   ]
  },
  {
   "cell_type": "code",
   "execution_count": 19,
   "metadata": {},
   "outputs": [],
   "source": [
    "X = df[features].values\n",
    "y = df[\"era_encode\"]"
   ]
  },
  {
   "cell_type": "code",
   "execution_count": 20,
   "metadata": {},
   "outputs": [],
   "source": [
    "## split train:test:validate = 70:20:10\n",
    "X_train, X_tests, y_train, y_tests = train_test_split(X, y, test_size=0.3, random_state=5)\n",
    "X_test, X_validate, y_test, y_validate = train_test_split(X_tests, y_tests, test_size=0.333, random_state=5)"
   ]
  },
  {
   "cell_type": "code",
   "execution_count": 21,
   "metadata": {},
   "outputs": [
    {
     "name": "stdout",
     "output_type": "stream",
     "text": [
      "0.7 0.2 0.1\n"
     ]
    }
   ],
   "source": [
    "## check split\n",
    "tot = sum([X_train.shape[0], X_test.shape[0], X_validate.shape[0]])\n",
    "print(round(X_train.shape[0]/tot, 2), round(X_test.shape[0]/tot, 2), round(X_validate.shape[0]/tot, 2))"
   ]
  },
  {
   "cell_type": "code",
   "execution_count": 22,
   "metadata": {},
   "outputs": [
    {
     "name": "stdout",
     "output_type": "stream",
     "text": [
      "y_train: [0.34, 0.34, 0.32]\n",
      "y_test: [0.35, 0.33, 0.33]\n",
      "y_validate: [0.34, 0.33, 0.33]\n"
     ]
    }
   ],
   "source": [
    "## check distr of eras\n",
    "def get_prop(vec, i):\n",
    "    return round(len(vec[vec==i])/len(vec), 2)\n",
    "print(\"y_train:\", [get_prop(y_train, era) for era in [0, 1, 2]])\n",
    "print(\"y_test:\", [get_prop(y_test, era) for era in [0, 1, 2]])\n",
    "print(\"y_validate:\", [get_prop(y_validate, era) for era in [0, 1, 2]])"
   ]
  },
  {
   "cell_type": "markdown",
   "metadata": {},
   "source": [
    "### Preproccessing"
   ]
  },
  {
   "cell_type": "code",
   "execution_count": 23,
   "metadata": {},
   "outputs": [],
   "source": [
    "## scale to 0-1:\n",
    "scaler = MinMaxScaler()\n",
    "X_test = scaler.fit_transform(X_test)\n",
    "X_train = scaler.fit_transform(X_train)\n",
    "X_validate = scaler.fit_transform(X_validate)\n"
   ]
  },
  {
   "cell_type": "code",
   "execution_count": 24,
   "metadata": {},
   "outputs": [],
   "source": [
    "## normalise:\n",
    "X_test = normalize(X_test, norm=\"l2\")\n",
    "X_train = normalize(X_train, norm=\"l2\")\n",
    "X_validate = normalize(X_validate, norm=\"l2\")"
   ]
  },
  {
   "cell_type": "code",
   "execution_count": 26,
   "metadata": {},
   "outputs": [],
   "source": [
    "y_train = y_train.astype(\"int\")\n",
    "y_test = y_test.astype(\"int\")\n",
    "y_validate = y_validate.astype(\"int\")"
   ]
  },
  {
   "cell_type": "markdown",
   "metadata": {},
   "source": [
    "### Neural Network:"
   ]
  },
  {
   "cell_type": "code",
   "execution_count": 27,
   "metadata": {},
   "outputs": [],
   "source": [
    "clf = MLPClassifier(hidden_layer_sizes=(100, 100), activation=\"relu\", solver=\"adam\", random_state=5, max_iter=500)"
   ]
  },
  {
   "cell_type": "code",
   "execution_count": 28,
   "metadata": {},
   "outputs": [
    {
     "data": {
      "text/plain": [
       "MLPClassifier(hidden_layer_sizes=(100, 100), max_iter=500, random_state=5)"
      ]
     },
     "execution_count": 28,
     "metadata": {},
     "output_type": "execute_result"
    }
   ],
   "source": [
    "clf.fit(X_train, y_train)"
   ]
  },
  {
   "cell_type": "code",
   "execution_count": 29,
   "metadata": {},
   "outputs": [],
   "source": [
    "y_pred = clf.predict(X_test)"
   ]
  },
  {
   "cell_type": "code",
   "execution_count": 30,
   "metadata": {},
   "outputs": [
    {
     "data": {
      "text/plain": [
       "0.8768410616179134"
      ]
     },
     "execution_count": 30,
     "metadata": {},
     "output_type": "execute_result"
    }
   ],
   "source": [
    "np.sqrt(np.mean((y_pred - y_test)**2))"
   ]
  },
  {
   "cell_type": "markdown",
   "metadata": {},
   "source": [
    "##### Neural Network Evaluation:"
   ]
  },
  {
   "cell_type": "code",
   "execution_count": 31,
   "metadata": {},
   "outputs": [
    {
     "name": "stdout",
     "output_type": "stream",
     "text": [
      "              precision    recall  f1-score   support\n",
      "\n",
      "           0       0.62      0.54      0.58      2311\n",
      "           1       0.57      0.49      0.53      2173\n",
      "           2       0.59      0.74      0.66      2187\n",
      "\n",
      "    accuracy                           0.59      6671\n",
      "   macro avg       0.59      0.59      0.59      6671\n",
      "weighted avg       0.59      0.59      0.59      6671\n",
      "\n"
     ]
    }
   ],
   "source": [
    "print(classification_report(y_test, y_pred))"
   ]
  },
  {
   "cell_type": "markdown",
   "metadata": {},
   "source": [
    "### Linear Regression:"
   ]
  },
  {
   "cell_type": "code",
   "execution_count": 32,
   "metadata": {},
   "outputs": [
    {
     "data": {
      "text/plain": [
       "LinearRegression()"
      ]
     },
     "execution_count": 32,
     "metadata": {},
     "output_type": "execute_result"
    }
   ],
   "source": [
    "lin_reg = LinearRegression()\n",
    "lin_reg.fit(X_train, y_train)"
   ]
  },
  {
   "cell_type": "code",
   "execution_count": 33,
   "metadata": {},
   "outputs": [],
   "source": [
    "y_pred_lr = lin_reg.predict(X_test)"
   ]
  },
  {
   "cell_type": "code",
   "execution_count": 34,
   "metadata": {},
   "outputs": [
    {
     "data": {
      "text/plain": [
       "0.7618907994495451"
      ]
     },
     "execution_count": 34,
     "metadata": {},
     "output_type": "execute_result"
    }
   ],
   "source": [
    "np.sqrt(np.mean((y_pred_lr - y_test)**2))"
   ]
  },
  {
   "cell_type": "code",
   "execution_count": 37,
   "metadata": {},
   "outputs": [],
   "source": [
    "rslt = pd.DataFrame({\"pred\": y_pred_lr, \"actual\": y_test})"
   ]
  },
  {
   "cell_type": "code",
   "execution_count": 39,
   "metadata": {},
   "outputs": [
    {
     "data": {
      "text/plain": [
       "actual\n",
       "0    0.897051\n",
       "1    1.012650\n",
       "2    1.219350\n",
       "Name: pred, dtype: float64"
      ]
     },
     "execution_count": 39,
     "metadata": {},
     "output_type": "execute_result"
    }
   ],
   "source": [
    "rslt.groupby(by=[\"actual\"])[\"pred\"].median()"
   ]
  },
  {
   "cell_type": "markdown",
   "metadata": {},
   "source": [
    "### Gaussian process classifier:"
   ]
  },
  {
   "cell_type": "markdown",
   "metadata": {},
   "source": [
    "gpc = GaussianProcessClassifier(random_state=5)\n",
    "gpc.fit(X_train, y_train)"
   ]
  },
  {
   "cell_type": "markdown",
   "metadata": {},
   "source": [
    "y_pred_gpc = gpc.predict(y_test)"
   ]
  },
  {
   "cell_type": "markdown",
   "metadata": {},
   "source": [
    "print(classification_report(y_test, y_pred_gpc))"
   ]
  },
  {
   "cell_type": "markdown",
   "metadata": {},
   "source": [
    "### Random Forest:"
   ]
  },
  {
   "cell_type": "code",
   "execution_count": 60,
   "metadata": {},
   "outputs": [],
   "source": [
    "rf = RandomForestClassifier(n_estimators=1000, criterion=\"gini\", random_state=5)"
   ]
  },
  {
   "cell_type": "code",
   "execution_count": 61,
   "metadata": {},
   "outputs": [
    {
     "data": {
      "text/plain": [
       "RandomForestClassifier(n_estimators=1000, random_state=5)"
      ]
     },
     "execution_count": 61,
     "metadata": {},
     "output_type": "execute_result"
    }
   ],
   "source": [
    "rf.fit(X_train, y_train)"
   ]
  },
  {
   "cell_type": "code",
   "execution_count": 62,
   "metadata": {},
   "outputs": [],
   "source": [
    "y_pred_rf = rf.predict(X_test)"
   ]
  },
  {
   "cell_type": "code",
   "execution_count": 63,
   "metadata": {},
   "outputs": [
    {
     "name": "stdout",
     "output_type": "stream",
     "text": [
      "              precision    recall  f1-score   support\n",
      "\n",
      "           0       0.72      0.69      0.70      2311\n",
      "           1       0.66      0.66      0.66      2173\n",
      "           2       0.74      0.77      0.75      2187\n",
      "\n",
      "    accuracy                           0.70      6671\n",
      "   macro avg       0.70      0.70      0.70      6671\n",
      "weighted avg       0.70      0.70      0.70      6671\n",
      "\n"
     ]
    }
   ],
   "source": [
    "print(classification_report(y_test, y_pred_rf))"
   ]
  },
  {
   "cell_type": "code",
   "execution_count": 42,
   "metadata": {},
   "outputs": [
    {
     "name": "stdout",
     "output_type": "stream",
     "text": [
      "              precision    recall  f1-score   support\n",
      "\n",
      "           0       0.71      0.68      0.70      2311\n",
      "           1       0.65      0.66      0.65      2173\n",
      "           2       0.74      0.76      0.75      2187\n",
      "\n",
      "    accuracy                           0.70      6671\n",
      "   macro avg       0.70      0.70      0.70      6671\n",
      "weighted avg       0.70      0.70      0.70      6671\n",
      "\n"
     ]
    }
   ],
   "source": [
    "print(classification_report(y_test, y_pred_rf))"
   ]
  },
  {
   "cell_type": "code",
   "execution_count": 67,
   "metadata": {},
   "outputs": [
    {
     "data": {
      "text/plain": [
       "array([1, 2, 0, ..., 0, 1, 1])"
      ]
     },
     "execution_count": 67,
     "metadata": {},
     "output_type": "execute_result"
    }
   ],
   "source": [
    "y_pred_rf"
   ]
  },
  {
   "cell_type": "code",
   "execution_count": 69,
   "metadata": {},
   "outputs": [
    {
     "data": {
      "text/plain": [
       "(33338, 12)"
      ]
     },
     "execution_count": 69,
     "metadata": {},
     "output_type": "execute_result"
    }
   ],
   "source": [
    "df.shape"
   ]
  },
  {
   "cell_type": "code",
   "execution_count": 75,
   "metadata": {},
   "outputs": [],
   "source": [
    "test_tracks = pd.DataFrame(y_test)\n",
    "test_tracks[\"pred\"] = y_pred_rf\n",
    "test_tracks[\"diff\"] = test_tracks.era_encode - test_tracks.pred"
   ]
  },
  {
   "cell_type": "code",
   "execution_count": 76,
   "metadata": {},
   "outputs": [
    {
     "data": {
      "text/html": [
       "<div>\n",
       "<style scoped>\n",
       "    .dataframe tbody tr th:only-of-type {\n",
       "        vertical-align: middle;\n",
       "    }\n",
       "\n",
       "    .dataframe tbody tr th {\n",
       "        vertical-align: top;\n",
       "    }\n",
       "\n",
       "    .dataframe thead th {\n",
       "        text-align: right;\n",
       "    }\n",
       "</style>\n",
       "<table border=\"1\" class=\"dataframe\">\n",
       "  <thead>\n",
       "    <tr style=\"text-align: right;\">\n",
       "      <th></th>\n",
       "      <th>era_encode</th>\n",
       "      <th>pred</th>\n",
       "      <th>diff</th>\n",
       "    </tr>\n",
       "  </thead>\n",
       "  <tbody>\n",
       "    <tr>\n",
       "      <th>14694</th>\n",
       "      <td>1</td>\n",
       "      <td>1</td>\n",
       "      <td>0</td>\n",
       "    </tr>\n",
       "    <tr>\n",
       "      <th>25913</th>\n",
       "      <td>2</td>\n",
       "      <td>2</td>\n",
       "      <td>0</td>\n",
       "    </tr>\n",
       "    <tr>\n",
       "      <th>1286</th>\n",
       "      <td>0</td>\n",
       "      <td>0</td>\n",
       "      <td>0</td>\n",
       "    </tr>\n",
       "    <tr>\n",
       "      <th>6917</th>\n",
       "      <td>0</td>\n",
       "      <td>0</td>\n",
       "      <td>0</td>\n",
       "    </tr>\n",
       "    <tr>\n",
       "      <th>1891</th>\n",
       "      <td>0</td>\n",
       "      <td>0</td>\n",
       "      <td>0</td>\n",
       "    </tr>\n",
       "  </tbody>\n",
       "</table>\n",
       "</div>"
      ],
      "text/plain": [
       "       era_encode  pred  diff\n",
       "14694           1     1     0\n",
       "25913           2     2     0\n",
       "1286            0     0     0\n",
       "6917            0     0     0\n",
       "1891            0     0     0"
      ]
     },
     "execution_count": 76,
     "metadata": {},
     "output_type": "execute_result"
    }
   ],
   "source": [
    "test_tracks.head()"
   ]
  },
  {
   "cell_type": "code",
   "execution_count": 77,
   "metadata": {},
   "outputs": [],
   "source": [
    "test_df = df.merge(test_tracks, how=\"inner\", left_index=True, right_index=True)"
   ]
  },
  {
   "cell_type": "code",
   "execution_count": 85,
   "metadata": {},
   "outputs": [],
   "source": [
    "test_df = test_df[test_df[\"diff\"] != 0]"
   ]
  },
  {
   "cell_type": "code",
   "execution_count": 86,
   "metadata": {},
   "outputs": [
    {
     "data": {
      "text/html": [
       "<div>\n",
       "<style scoped>\n",
       "    .dataframe tbody tr th:only-of-type {\n",
       "        vertical-align: middle;\n",
       "    }\n",
       "\n",
       "    .dataframe tbody tr th {\n",
       "        vertical-align: top;\n",
       "    }\n",
       "\n",
       "    .dataframe thead th {\n",
       "        text-align: right;\n",
       "    }\n",
       "</style>\n",
       "<table border=\"1\" class=\"dataframe\">\n",
       "  <thead>\n",
       "    <tr style=\"text-align: right;\">\n",
       "      <th></th>\n",
       "      <th>Unnamed: 0</th>\n",
       "      <th>track_id</th>\n",
       "      <th>danceability</th>\n",
       "      <th>energy</th>\n",
       "      <th>key</th>\n",
       "      <th>loudness</th>\n",
       "      <th>mode</th>\n",
       "      <th>valence</th>\n",
       "      <th>tempo</th>\n",
       "      <th>time_signature</th>\n",
       "      <th>era</th>\n",
       "      <th>era_encode_x</th>\n",
       "      <th>era_encode_y</th>\n",
       "      <th>pred</th>\n",
       "      <th>diff</th>\n",
       "    </tr>\n",
       "  </thead>\n",
       "  <tbody>\n",
       "    <tr>\n",
       "      <th>5</th>\n",
       "      <td>5</td>\n",
       "      <td>4wIqzH5G9GUmQTFfh4yxf5</td>\n",
       "      <td>0.503</td>\n",
       "      <td>0.02360</td>\n",
       "      <td>7.0</td>\n",
       "      <td>-24.251</td>\n",
       "      <td>1.0</td>\n",
       "      <td>0.6870</td>\n",
       "      <td>118.847</td>\n",
       "      <td>5.0</td>\n",
       "      <td>baroque</td>\n",
       "      <td>0.0</td>\n",
       "      <td>0</td>\n",
       "      <td>1</td>\n",
       "      <td>-1</td>\n",
       "    </tr>\n",
       "    <tr>\n",
       "      <th>14</th>\n",
       "      <td>14</td>\n",
       "      <td>4phoMGdd4KHJ9R2vxSueOa</td>\n",
       "      <td>0.499</td>\n",
       "      <td>0.10600</td>\n",
       "      <td>0.0</td>\n",
       "      <td>-25.290</td>\n",
       "      <td>1.0</td>\n",
       "      <td>0.8330</td>\n",
       "      <td>88.955</td>\n",
       "      <td>4.0</td>\n",
       "      <td>baroque</td>\n",
       "      <td>0.0</td>\n",
       "      <td>0</td>\n",
       "      <td>1</td>\n",
       "      <td>-1</td>\n",
       "    </tr>\n",
       "    <tr>\n",
       "      <th>16</th>\n",
       "      <td>16</td>\n",
       "      <td>3Ror6mdgBpRxwNogVehe8H</td>\n",
       "      <td>0.384</td>\n",
       "      <td>0.04280</td>\n",
       "      <td>0.0</td>\n",
       "      <td>-25.723</td>\n",
       "      <td>1.0</td>\n",
       "      <td>0.5920</td>\n",
       "      <td>75.640</td>\n",
       "      <td>3.0</td>\n",
       "      <td>baroque</td>\n",
       "      <td>0.0</td>\n",
       "      <td>0</td>\n",
       "      <td>1</td>\n",
       "      <td>-1</td>\n",
       "    </tr>\n",
       "    <tr>\n",
       "      <th>21</th>\n",
       "      <td>21</td>\n",
       "      <td>6QxvKmbPw9nARCiw1a1QpR</td>\n",
       "      <td>0.381</td>\n",
       "      <td>0.00344</td>\n",
       "      <td>3.0</td>\n",
       "      <td>-26.471</td>\n",
       "      <td>1.0</td>\n",
       "      <td>0.3550</td>\n",
       "      <td>120.842</td>\n",
       "      <td>5.0</td>\n",
       "      <td>baroque</td>\n",
       "      <td>0.0</td>\n",
       "      <td>0</td>\n",
       "      <td>2</td>\n",
       "      <td>-2</td>\n",
       "    </tr>\n",
       "    <tr>\n",
       "      <th>27</th>\n",
       "      <td>27</td>\n",
       "      <td>3UjnAjOB5Vb3aaWU1Bufdv</td>\n",
       "      <td>0.210</td>\n",
       "      <td>0.00385</td>\n",
       "      <td>0.0</td>\n",
       "      <td>-30.866</td>\n",
       "      <td>0.0</td>\n",
       "      <td>0.0805</td>\n",
       "      <td>84.100</td>\n",
       "      <td>4.0</td>\n",
       "      <td>baroque</td>\n",
       "      <td>0.0</td>\n",
       "      <td>0</td>\n",
       "      <td>2</td>\n",
       "      <td>-2</td>\n",
       "    </tr>\n",
       "  </tbody>\n",
       "</table>\n",
       "</div>"
      ],
      "text/plain": [
       "    Unnamed: 0                track_id  danceability   energy  key  loudness  \\\n",
       "5            5  4wIqzH5G9GUmQTFfh4yxf5         0.503  0.02360  7.0   -24.251   \n",
       "14          14  4phoMGdd4KHJ9R2vxSueOa         0.499  0.10600  0.0   -25.290   \n",
       "16          16  3Ror6mdgBpRxwNogVehe8H         0.384  0.04280  0.0   -25.723   \n",
       "21          21  6QxvKmbPw9nARCiw1a1QpR         0.381  0.00344  3.0   -26.471   \n",
       "27          27  3UjnAjOB5Vb3aaWU1Bufdv         0.210  0.00385  0.0   -30.866   \n",
       "\n",
       "    mode  valence    tempo  time_signature      era  era_encode_x  \\\n",
       "5    1.0   0.6870  118.847             5.0  baroque           0.0   \n",
       "14   1.0   0.8330   88.955             4.0  baroque           0.0   \n",
       "16   1.0   0.5920   75.640             3.0  baroque           0.0   \n",
       "21   1.0   0.3550  120.842             5.0  baroque           0.0   \n",
       "27   0.0   0.0805   84.100             4.0  baroque           0.0   \n",
       "\n",
       "    era_encode_y  pred  diff  \n",
       "5              0     1    -1  \n",
       "14             0     1    -1  \n",
       "16             0     1    -1  \n",
       "21             0     2    -2  \n",
       "27             0     2    -2  "
      ]
     },
     "execution_count": 86,
     "metadata": {},
     "output_type": "execute_result"
    }
   ],
   "source": [
    "test_df.head()"
   ]
  },
  {
   "cell_type": "code",
   "execution_count": 92,
   "metadata": {},
   "outputs": [],
   "source": [
    "not_baroque = test_df[test_df[\"pred\"] == 0]\n",
    "not_classical = test_df[test_df[\"pred\"] == 1]\n",
    "not_romantic = test_df[test_df[\"pred\"] == 2]"
   ]
  },
  {
   "cell_type": "code",
   "execution_count": 101,
   "metadata": {},
   "outputs": [],
   "source": [
    "not_baroque_tracks = not_baroque[\"track_id\"].values[0:90]\n",
    "not_classical_tracks = not_classical[\"track_id\"].values[0:90]\n",
    "not_romantic_tracks = not_romantic[\"track_id\"].values[0:90]"
   ]
  },
  {
   "cell_type": "code",
   "execution_count": 111,
   "metadata": {},
   "outputs": [],
   "source": [
    "baroque_id = sp.user_playlist_create(user=\"omkwppodx5qi1pph0cwma65zc\", name=\"not baroque\", public=False)[\"id\"]\n",
    "classical_id = sp.user_playlist_create(user=\"omkwppodx5qi1pph0cwma65zc\", name=\"not classical\", public=False)[\"id\"]\n",
    "romantic_id = sp.user_playlist_create(user=\"omkwppodx5qi1pph0cwma65zc\", name=\"not romantic\", public=False)[\"id\"]"
   ]
  },
  {
   "cell_type": "code",
   "execution_count": 112,
   "metadata": {},
   "outputs": [
    {
     "data": {
      "text/plain": [
       "{'snapshot_id': 'MyxiNjA5NDA5YmFjMzY5ZGI4MmVkY2E0YWE4MTE3MDUxYjAwYmJkOTJi'}"
      ]
     },
     "execution_count": 112,
     "metadata": {},
     "output_type": "execute_result"
    }
   ],
   "source": [
    "sp.user_playlist_add_tracks(user=\"omkwppodx5qi1pph0cwma65zc\", playlist_id=baroque_id, tracks=not_baroque_tracks)"
   ]
  },
  {
   "cell_type": "code",
   "execution_count": 113,
   "metadata": {},
   "outputs": [
    {
     "data": {
      "text/plain": [
       "{'snapshot_id': 'MywwYmRkM2Y3MWExNDE2ZmFkODg1ZGE4NWE4ZTc5MzlhMjE3ZjJkNzA3'}"
      ]
     },
     "execution_count": 113,
     "metadata": {},
     "output_type": "execute_result"
    }
   ],
   "source": [
    "sp.user_playlist_add_tracks(user=\"omkwppodx5qi1pph0cwma65zc\", playlist_id=classical_id, tracks=not_classical_tracks)"
   ]
  },
  {
   "cell_type": "code",
   "execution_count": 114,
   "metadata": {},
   "outputs": [
    {
     "data": {
      "text/plain": [
       "{'snapshot_id': 'MyxmYjg1OTAyYWEwMmJjYzFkZmE5YWZmNWQzNmRjMDE5Mjg2ZjE5Y2U1'}"
      ]
     },
     "execution_count": 114,
     "metadata": {},
     "output_type": "execute_result"
    }
   ],
   "source": [
    "sp.user_playlist_add_tracks(user=\"omkwppodx5qi1pph0cwma65zc\", playlist_id=romantic_id, tracks=not_romantic_tracks)"
   ]
  },
  {
   "cell_type": "code",
   "execution_count": 110,
   "metadata": {},
   "outputs": [
    {
     "data": {
      "text/plain": [
       "'2rh6e38SA88E0RQoNWtTxt'"
      ]
     },
     "execution_count": 110,
     "metadata": {},
     "output_type": "execute_result"
    }
   ],
   "source": [
    "classical_id"
   ]
  },
  {
   "cell_type": "code",
   "execution_count": null,
   "metadata": {},
   "outputs": [],
   "source": []
  }
 ],
 "metadata": {
  "kernelspec": {
   "display_name": "Python 3",
   "language": "python",
   "name": "python3"
  },
  "language_info": {
   "codemirror_mode": {
    "name": "ipython",
    "version": 3
   },
   "file_extension": ".py",
   "mimetype": "text/x-python",
   "name": "python",
   "nbconvert_exporter": "python",
   "pygments_lexer": "ipython3",
   "version": "3.8.5"
  }
 },
 "nbformat": 4,
 "nbformat_minor": 4
}
